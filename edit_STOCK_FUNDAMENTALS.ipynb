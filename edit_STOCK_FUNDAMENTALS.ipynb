{
 "cells": [
  {
   "cell_type": "markdown",
   "id": "dcdb5e89",
   "metadata": {},
   "source": [
    "# Edit Your Expectation Suite\n",
    "Use this notebook to recreate and modify your expectation suite:\n",
    "\n",
    "**Expectation Suite Name**: `STOCK_FUNDAMENTALS`"
   ]
  },
  {
   "cell_type": "code",
   "execution_count": 55,
   "id": "64038b86",
   "metadata": {},
   "outputs": [
    {
     "name": "stdout",
     "output_type": "stream",
     "text": [
      "2024-04-16T13:41:07+0530 - INFO - FileDataContext loading fluent config\n",
      "2024-04-16T13:41:07+0530 - INFO - Loading 'datasources' ->\n",
      "[]\n",
      "Loaded ExpectationSuite \"STOCK_FUNDAMENTALS\" containing 39 expectations.\n"
     ]
    },
    {
     "data": {
      "application/vnd.jupyter.widget-view+json": {
       "model_id": "96c635c6999f469786c64e0632440b41",
       "version_major": 2,
       "version_minor": 0
      },
      "text/plain": [
       "Calculating Metrics:   0%|          | 0/2 [00:00<?, ?it/s]"
      ]
     },
     "metadata": {},
     "output_type": "display_data"
    },
    {
     "name": "stdout",
     "output_type": "stream",
     "text": [
      "Columns: \"_id\", \"securityId\", \"industry\", \"yearQuarter\", \"closePrice\", \"alMarketCap\", \"alBookValuePerShare\", \"alEarningPerShare\", \"alEPSPct\", \"alPriceToEarning\", \"alCashToDebtRatio\", \"alCurrentRatio\", \"alEquityToAssetRatio\", \"alDebtToCapitalRatio\", \"alLeveredBeta\", \"alReturnOnEquity\", \"alSolvencyRatio\", \"alCostOfEquity\", \"alCostOfDebt\", \"qrEBIDTAMargin\", \"qrOperatingMargin\", \"qrNetMargin\", \"qrDividendPercent\", \"alROIC\", \"alWACC\", \"alReturnRatio\", \"alValueCreation\", \"todayDate\", \"updateDate\", \"_class\".\n"
     ]
    },
    {
     "data": {
      "application/vnd.jupyter.widget-view+json": {
       "model_id": "9379f40dd41949378168a0fb4a8e8709",
       "version_major": 2,
       "version_minor": 0
      },
      "text/plain": [
       "Calculating Metrics:   0%|          | 0/1 [00:00<?, ?it/s]"
      ]
     },
     "metadata": {},
     "output_type": "display_data"
    },
    {
     "data": {
      "text/html": [
       "<div>\n",
       "<style scoped>\n",
       "    .dataframe tbody tr th:only-of-type {\n",
       "        vertical-align: middle;\n",
       "    }\n",
       "\n",
       "    .dataframe tbody tr th {\n",
       "        vertical-align: top;\n",
       "    }\n",
       "\n",
       "    .dataframe thead th {\n",
       "        text-align: right;\n",
       "    }\n",
       "</style>\n",
       "<table border=\"1\" class=\"dataframe\">\n",
       "  <thead>\n",
       "    <tr style=\"text-align: right;\">\n",
       "      <th></th>\n",
       "      <th>_id</th>\n",
       "      <th>securityId</th>\n",
       "      <th>industry</th>\n",
       "      <th>yearQuarter</th>\n",
       "      <th>closePrice</th>\n",
       "      <th>alMarketCap</th>\n",
       "      <th>alBookValuePerShare</th>\n",
       "      <th>alEarningPerShare</th>\n",
       "      <th>alEPSPct</th>\n",
       "      <th>alPriceToEarning</th>\n",
       "      <th>alCashToDebtRatio</th>\n",
       "      <th>alCurrentRatio</th>\n",
       "      <th>alEquityToAssetRatio</th>\n",
       "      <th>alDebtToCapitalRatio</th>\n",
       "      <th>alLeveredBeta</th>\n",
       "      <th>alReturnOnEquity</th>\n",
       "      <th>alSolvencyRatio</th>\n",
       "      <th>alCostOfEquity</th>\n",
       "      <th>alCostOfDebt</th>\n",
       "      <th>qrEBIDTAMargin</th>\n",
       "      <th>qrOperatingMargin</th>\n",
       "      <th>qrNetMargin</th>\n",
       "      <th>qrDividendPercent</th>\n",
       "      <th>alROIC</th>\n",
       "      <th>alWACC</th>\n",
       "      <th>alReturnRatio</th>\n",
       "      <th>alValueCreation</th>\n",
       "      <th>todayDate</th>\n",
       "      <th>updateDate</th>\n",
       "      <th>_class</th>\n",
       "    </tr>\n",
       "  </thead>\n",
       "  <tbody>\n",
       "    <tr>\n",
       "      <th>0</th>\n",
       "      <td>65bf4bb1ef65b33113526bd1</td>\n",
       "      <td>4THDIM</td>\n",
       "      <td>-</td>\n",
       "      <td>2022Q3</td>\n",
       "      <td>4.37</td>\n",
       "      <td>70.85081</td>\n",
       "      <td>13.5764</td>\n",
       "      <td>2.4115</td>\n",
       "      <td>0.551831</td>\n",
       "      <td>1.812150</td>\n",
       "      <td>14.408</td>\n",
       "      <td>0.0709</td>\n",
       "      <td>0.9557</td>\n",
       "      <td>0.0005</td>\n",
       "      <td>0.0000</td>\n",
       "      <td>0.1776</td>\n",
       "      <td>0.0005</td>\n",
       "      <td>0.0684</td>\n",
       "      <td>0.461</td>\n",
       "      <td>0.7641</td>\n",
       "      <td>0.6982</td>\n",
       "      <td>0.6982</td>\n",
       "      <td>0.0</td>\n",
       "      <td>0.0003</td>\n",
       "      <td>0.0685</td>\n",
       "      <td>0.004380</td>\n",
       "      <td>-227.333333</td>\n",
       "      <td>2022-09-07T18:30:00.000Z</td>\n",
       "      <td>2024-02-04T08:32:49.373Z</td>\n",
       "      <td>com.intelliinvest.model.StockFundamental</td>\n",
       "    </tr>\n",
       "    <tr>\n",
       "      <th>1</th>\n",
       "      <td>65bf4bb1ef65b33113526bd2</td>\n",
       "      <td>4THDIM</td>\n",
       "      <td>-</td>\n",
       "      <td>2022Q3</td>\n",
       "      <td>4.58</td>\n",
       "      <td>74.25554</td>\n",
       "      <td>13.5764</td>\n",
       "      <td>2.4115</td>\n",
       "      <td>0.526528</td>\n",
       "      <td>1.899233</td>\n",
       "      <td>14.408</td>\n",
       "      <td>0.0709</td>\n",
       "      <td>0.9557</td>\n",
       "      <td>0.0005</td>\n",
       "      <td>0.0000</td>\n",
       "      <td>0.1776</td>\n",
       "      <td>0.0005</td>\n",
       "      <td>0.0684</td>\n",
       "      <td>0.461</td>\n",
       "      <td>0.7641</td>\n",
       "      <td>0.6982</td>\n",
       "      <td>0.6982</td>\n",
       "      <td>0.0</td>\n",
       "      <td>0.0003</td>\n",
       "      <td>0.0685</td>\n",
       "      <td>0.004380</td>\n",
       "      <td>-227.333333</td>\n",
       "      <td>2022-09-08T18:30:00.000Z</td>\n",
       "      <td>2024-02-04T08:32:49.448Z</td>\n",
       "      <td>com.intelliinvest.model.StockFundamental</td>\n",
       "    </tr>\n",
       "    <tr>\n",
       "      <th>2</th>\n",
       "      <td>65bf4bb1ef65b33113526bd3</td>\n",
       "      <td>4THDIM</td>\n",
       "      <td>-</td>\n",
       "      <td>2022Q3</td>\n",
       "      <td>4.80</td>\n",
       "      <td>77.82240</td>\n",
       "      <td>13.5764</td>\n",
       "      <td>2.4115</td>\n",
       "      <td>0.502396</td>\n",
       "      <td>1.990462</td>\n",
       "      <td>14.408</td>\n",
       "      <td>0.0709</td>\n",
       "      <td>0.9557</td>\n",
       "      <td>0.0005</td>\n",
       "      <td>-0.0052</td>\n",
       "      <td>0.1776</td>\n",
       "      <td>0.0005</td>\n",
       "      <td>0.0678</td>\n",
       "      <td>0.461</td>\n",
       "      <td>0.7641</td>\n",
       "      <td>0.6982</td>\n",
       "      <td>0.6982</td>\n",
       "      <td>0.0</td>\n",
       "      <td>0.0003</td>\n",
       "      <td>0.0679</td>\n",
       "      <td>0.004418</td>\n",
       "      <td>-225.333333</td>\n",
       "      <td>2022-09-11T18:30:00.000Z</td>\n",
       "      <td>2024-02-04T08:32:49.473Z</td>\n",
       "      <td>com.intelliinvest.model.StockFundamental</td>\n",
       "    </tr>\n",
       "    <tr>\n",
       "      <th>3</th>\n",
       "      <td>65bf4bb1ef65b33113526bd4</td>\n",
       "      <td>4THDIM</td>\n",
       "      <td>-</td>\n",
       "      <td>2022Q3</td>\n",
       "      <td>5.04</td>\n",
       "      <td>81.71352</td>\n",
       "      <td>13.5764</td>\n",
       "      <td>2.4115</td>\n",
       "      <td>0.478472</td>\n",
       "      <td>2.089985</td>\n",
       "      <td>14.408</td>\n",
       "      <td>0.0709</td>\n",
       "      <td>0.9557</td>\n",
       "      <td>0.0005</td>\n",
       "      <td>0.2913</td>\n",
       "      <td>0.1776</td>\n",
       "      <td>0.0005</td>\n",
       "      <td>0.1038</td>\n",
       "      <td>0.461</td>\n",
       "      <td>0.7641</td>\n",
       "      <td>0.6982</td>\n",
       "      <td>0.6982</td>\n",
       "      <td>0.0</td>\n",
       "      <td>0.0003</td>\n",
       "      <td>0.1039</td>\n",
       "      <td>0.002887</td>\n",
       "      <td>-345.333333</td>\n",
       "      <td>2022-09-12T18:30:00.000Z</td>\n",
       "      <td>2024-02-04T08:32:49.474Z</td>\n",
       "      <td>com.intelliinvest.model.StockFundamental</td>\n",
       "    </tr>\n",
       "    <tr>\n",
       "      <th>4</th>\n",
       "      <td>65bf4bb1ef65b33113526bd5</td>\n",
       "      <td>4THDIM</td>\n",
       "      <td>-</td>\n",
       "      <td>2022Q3</td>\n",
       "      <td>5.29</td>\n",
       "      <td>85.76677</td>\n",
       "      <td>13.5764</td>\n",
       "      <td>2.4115</td>\n",
       "      <td>0.455860</td>\n",
       "      <td>2.193655</td>\n",
       "      <td>14.408</td>\n",
       "      <td>0.0709</td>\n",
       "      <td>0.9557</td>\n",
       "      <td>0.0005</td>\n",
       "      <td>-0.0176</td>\n",
       "      <td>0.1776</td>\n",
       "      <td>0.0005</td>\n",
       "      <td>0.0663</td>\n",
       "      <td>0.461</td>\n",
       "      <td>0.7641</td>\n",
       "      <td>0.6982</td>\n",
       "      <td>0.6982</td>\n",
       "      <td>0.0</td>\n",
       "      <td>0.0003</td>\n",
       "      <td>0.0664</td>\n",
       "      <td>0.004518</td>\n",
       "      <td>-220.333333</td>\n",
       "      <td>2022-09-13T18:30:00.000Z</td>\n",
       "      <td>2024-02-04T08:32:49.474Z</td>\n",
       "      <td>com.intelliinvest.model.StockFundamental</td>\n",
       "    </tr>\n",
       "  </tbody>\n",
       "</table>\n",
       "</div>"
      ],
      "text/plain": [
       "                        _id securityId industry yearQuarter  closePrice  \\\n",
       "0  65bf4bb1ef65b33113526bd1     4THDIM        -      2022Q3        4.37   \n",
       "1  65bf4bb1ef65b33113526bd2     4THDIM        -      2022Q3        4.58   \n",
       "2  65bf4bb1ef65b33113526bd3     4THDIM        -      2022Q3        4.80   \n",
       "3  65bf4bb1ef65b33113526bd4     4THDIM        -      2022Q3        5.04   \n",
       "4  65bf4bb1ef65b33113526bd5     4THDIM        -      2022Q3        5.29   \n",
       "\n",
       "   alMarketCap  alBookValuePerShare  alEarningPerShare  alEPSPct  \\\n",
       "0     70.85081              13.5764             2.4115  0.551831   \n",
       "1     74.25554              13.5764             2.4115  0.526528   \n",
       "2     77.82240              13.5764             2.4115  0.502396   \n",
       "3     81.71352              13.5764             2.4115  0.478472   \n",
       "4     85.76677              13.5764             2.4115  0.455860   \n",
       "\n",
       "   alPriceToEarning  alCashToDebtRatio  alCurrentRatio  alEquityToAssetRatio  \\\n",
       "0          1.812150             14.408          0.0709                0.9557   \n",
       "1          1.899233             14.408          0.0709                0.9557   \n",
       "2          1.990462             14.408          0.0709                0.9557   \n",
       "3          2.089985             14.408          0.0709                0.9557   \n",
       "4          2.193655             14.408          0.0709                0.9557   \n",
       "\n",
       "   alDebtToCapitalRatio  alLeveredBeta  alReturnOnEquity  alSolvencyRatio  \\\n",
       "0                0.0005         0.0000            0.1776           0.0005   \n",
       "1                0.0005         0.0000            0.1776           0.0005   \n",
       "2                0.0005        -0.0052            0.1776           0.0005   \n",
       "3                0.0005         0.2913            0.1776           0.0005   \n",
       "4                0.0005        -0.0176            0.1776           0.0005   \n",
       "\n",
       "   alCostOfEquity  alCostOfDebt  qrEBIDTAMargin  qrOperatingMargin  \\\n",
       "0          0.0684         0.461          0.7641             0.6982   \n",
       "1          0.0684         0.461          0.7641             0.6982   \n",
       "2          0.0678         0.461          0.7641             0.6982   \n",
       "3          0.1038         0.461          0.7641             0.6982   \n",
       "4          0.0663         0.461          0.7641             0.6982   \n",
       "\n",
       "   qrNetMargin  qrDividendPercent  alROIC  alWACC  alReturnRatio  \\\n",
       "0       0.6982                0.0  0.0003  0.0685       0.004380   \n",
       "1       0.6982                0.0  0.0003  0.0685       0.004380   \n",
       "2       0.6982                0.0  0.0003  0.0679       0.004418   \n",
       "3       0.6982                0.0  0.0003  0.1039       0.002887   \n",
       "4       0.6982                0.0  0.0003  0.0664       0.004518   \n",
       "\n",
       "   alValueCreation                 todayDate                updateDate  \\\n",
       "0      -227.333333  2022-09-07T18:30:00.000Z  2024-02-04T08:32:49.373Z   \n",
       "1      -227.333333  2022-09-08T18:30:00.000Z  2024-02-04T08:32:49.448Z   \n",
       "2      -225.333333  2022-09-11T18:30:00.000Z  2024-02-04T08:32:49.473Z   \n",
       "3      -345.333333  2022-09-12T18:30:00.000Z  2024-02-04T08:32:49.474Z   \n",
       "4      -220.333333  2022-09-13T18:30:00.000Z  2024-02-04T08:32:49.474Z   \n",
       "\n",
       "                                     _class  \n",
       "0  com.intelliinvest.model.StockFundamental  \n",
       "1  com.intelliinvest.model.StockFundamental  \n",
       "2  com.intelliinvest.model.StockFundamental  \n",
       "3  com.intelliinvest.model.StockFundamental  \n",
       "4  com.intelliinvest.model.StockFundamental  "
      ]
     },
     "execution_count": 55,
     "metadata": {},
     "output_type": "execute_result"
    }
   ],
   "source": [
    "import datetime\n",
    "\n",
    "\n",
    "import pandas as pd\n",
    "\n",
    "import great_expectations as gx\n",
    "import great_expectations.jupyter_ux\n",
    "from great_expectations.core.batch import BatchRequest\n",
    "from great_expectations.checkpoint import SimpleCheckpoint\n",
    "from great_expectations.exceptions import DataContextError\n",
    "\n",
    "context = gx.get_context()\n",
    "\n",
    "# Note that if you modify this batch request, you may save the new version as a .json file\n",
    "#  to pass in later via the --batch-request option\n",
    "batch_request = {\n",
    "    \"datasource_name\": \"my_datasource\",\n",
    "    \"data_connector_name\": \"default_inferred_data_connector_name\",\n",
    "    \"data_asset_name\": \"STOCK_FUNDAMENTALS.csv\",\n",
    "    \"limit\": 1000,\n",
    "}\n",
    "\n",
    "\n",
    "# Feel free to change the name of your suite here. Renaming this will not remove the other one.\n",
    "expectation_suite_name = \"STOCK_FUNDAMENTALS\"\n",
    "try:\n",
    "    suite = context.get_expectation_suite(expectation_suite_name=expectation_suite_name)\n",
    "    print(\n",
    "        f'Loaded ExpectationSuite \"{suite.expectation_suite_name}\" containing {len(suite.expectations)} expectations.'\n",
    "    )\n",
    "except DataContextError:\n",
    "    suite = context.add_expectation_suite(expectation_suite_name=expectation_suite_name)\n",
    "    print(f'Created ExpectationSuite \"{suite.expectation_suite_name}\".')\n",
    "\n",
    "\n",
    "validator = context.get_validator(\n",
    "    batch_request=BatchRequest(**batch_request),\n",
    "    expectation_suite_name=expectation_suite_name,\n",
    ")\n",
    "column_names = [f'\"{column_name}\"' for column_name in validator.columns()]\n",
    "print(f\"Columns: {', '.join(column_names)}.\")\n",
    "validator.head(n_rows=5, fetch_all=False)"
   ]
  },
  {
   "cell_type": "code",
   "execution_count": null,
   "id": "a55b1257-2da9-4c32-a9c4-71271876fb99",
   "metadata": {},
   "outputs": [],
   "source": []
  },
  {
   "cell_type": "code",
   "execution_count": null,
   "id": "31af7b81-659b-491e-ac76-1377b4325aa6",
   "metadata": {},
   "outputs": [],
   "source": []
  },
  {
   "cell_type": "markdown",
   "id": "35a26ee2",
   "metadata": {},
   "source": [
    "## Create & Edit Expectations\n",
    "\n",
    "\n",
    "Add expectations by calling specific expectation methods on the `validator` object. They all begin with `.expect_` which makes autocompleting easy using tab.\n",
    "\n",
    "Because you selected interactive mode, you are now creating or editing an Expectation Suite with validator feedback from the sample batch of data that you specified (see `batch_request`).\n",
    "\n",
    "Note that if you select manual mode you may still create or edit an Expectation Suite directly, without feedback from the `validator`. See our documentation for more info and examples: [How to create a new Expectation Suite without a sample batch](https://docs.greatexpectations.io/docs/guides/expectations/how_to_create_and_edit_expectations_based_on_domain_knowledge_without_inspecting_data_directly).\n",
    "\n",
    "\n",
    "\n",
    "You can see all the available expectations in the **[expectation gallery](https://greatexpectations.io/expectations)**."
   ]
  },
  {
   "cell_type": "markdown",
   "id": "efe96129",
   "metadata": {},
   "source": [
    "### Table Expectation(s)"
   ]
  },
  {
   "cell_type": "code",
   "execution_count": 56,
   "id": "74ebbfd7",
   "metadata": {},
   "outputs": [
    {
     "data": {
      "application/vnd.jupyter.widget-view+json": {
       "model_id": "6a15f31219d94813a214212a58954237",
       "version_major": 2,
       "version_minor": 0
      },
      "text/plain": [
       "Calculating Metrics:   0%|          | 0/1 [00:00<?, ?it/s]"
      ]
     },
     "metadata": {},
     "output_type": "display_data"
    },
    {
     "data": {
      "text/plain": [
       "{\n",
       "  \"success\": true,\n",
       "  \"result\": {\n",
       "    \"observed_value\": 488916\n",
       "  },\n",
       "  \"meta\": {},\n",
       "  \"exception_info\": {\n",
       "    \"raised_exception\": false,\n",
       "    \"exception_traceback\": null,\n",
       "    \"exception_message\": null\n",
       "  }\n",
       "}"
      ]
     },
     "execution_count": 56,
     "metadata": {},
     "output_type": "execute_result"
    }
   ],
   "source": [
    "validator.expect_table_row_count_to_be_between(max_value=488916, min_value=488916)"
   ]
  },
  {
   "cell_type": "code",
   "execution_count": 57,
   "id": "c5a52df0",
   "metadata": {},
   "outputs": [
    {
     "data": {
      "application/vnd.jupyter.widget-view+json": {
       "model_id": "34b502b97be34900b69abf9f6f33bacc",
       "version_major": 2,
       "version_minor": 0
      },
      "text/plain": [
       "Calculating Metrics:   0%|          | 0/2 [00:00<?, ?it/s]"
      ]
     },
     "metadata": {},
     "output_type": "display_data"
    },
    {
     "data": {
      "text/plain": [
       "{\n",
       "  \"success\": true,\n",
       "  \"result\": {\n",
       "    \"observed_value\": [\n",
       "      \"_id\",\n",
       "      \"securityId\",\n",
       "      \"industry\",\n",
       "      \"yearQuarter\",\n",
       "      \"closePrice\",\n",
       "      \"alMarketCap\",\n",
       "      \"alBookValuePerShare\",\n",
       "      \"alEarningPerShare\",\n",
       "      \"alEPSPct\",\n",
       "      \"alPriceToEarning\",\n",
       "      \"alCashToDebtRatio\",\n",
       "      \"alCurrentRatio\",\n",
       "      \"alEquityToAssetRatio\",\n",
       "      \"alDebtToCapitalRatio\",\n",
       "      \"alLeveredBeta\",\n",
       "      \"alReturnOnEquity\",\n",
       "      \"alSolvencyRatio\",\n",
       "      \"alCostOfEquity\",\n",
       "      \"alCostOfDebt\",\n",
       "      \"qrEBIDTAMargin\",\n",
       "      \"qrOperatingMargin\",\n",
       "      \"qrNetMargin\",\n",
       "      \"qrDividendPercent\",\n",
       "      \"alROIC\",\n",
       "      \"alWACC\",\n",
       "      \"alReturnRatio\",\n",
       "      \"alValueCreation\",\n",
       "      \"todayDate\",\n",
       "      \"updateDate\",\n",
       "      \"_class\"\n",
       "    ]\n",
       "  },\n",
       "  \"meta\": {},\n",
       "  \"exception_info\": {\n",
       "    \"raised_exception\": false,\n",
       "    \"exception_traceback\": null,\n",
       "    \"exception_message\": null\n",
       "  }\n",
       "}"
      ]
     },
     "execution_count": 57,
     "metadata": {},
     "output_type": "execute_result"
    }
   ],
   "source": [
    "validator.expect_table_columns_to_match_set(\n",
    "    column_set=[\n",
    "        \"securityId\",\n",
    "        \"alCurrentRatio\",\n",
    "        \"industry\",\n",
    "        \"alReturnOnEquity\",\n",
    "        \"alEquityToAssetRatio\",\n",
    "        \"qrDividendPercent\",\n",
    "        \"alROIC\",\n",
    "        \"alSolvencyRatio\",\n",
    "        \"alLeveredBeta\",\n",
    "        \"alDebtToCapitalRatio\",\n",
    "        \"alEarningPerShare\",\n",
    "        \"alEPSPct\",\n",
    "        \"alWACC\",\n",
    "        \"alCostOfEquity\",\n",
    "        \"alMarketCap\",\n",
    "        \"closePrice\",\n",
    "        \"alCostOfDebt\",\n",
    "        \"alPriceToEarning\",\n",
    "        \"alBookValuePerShare\",\n",
    "        \"qrNetMargin\",\n",
    "        \"yearQuarter\",\n",
    "        \"alValueCreation\",\n",
    "        \"_id\",\n",
    "        \"alCashToDebtRatio\",\n",
    "        \"qrEBIDTAMargin\",\n",
    "        \"qrOperatingMargin\",\n",
    "        \"_class\",\n",
    "        \"todayDate\",\n",
    "        \"updateDate\",\n",
    "        \"alReturnRatio\",\n",
    "    ]\n",
    ")"
   ]
  },
  {
   "cell_type": "markdown",
   "id": "a80b6708",
   "metadata": {},
   "source": [
    "### Column Expectation(s)"
   ]
  },
  {
   "cell_type": "markdown",
   "id": "4dc4de29",
   "metadata": {},
   "source": [
    "No column level expectations are in this suite. Feel free to add some here.\n",
    "\n",
    "They all begin with`validator.expect_column_...`.\n"
   ]
  },
  {
   "cell_type": "code",
   "execution_count": 58,
   "id": "7527fafa-962e-476f-99ba-7810e34b6074",
   "metadata": {},
   "outputs": [
    {
     "data": {
      "application/vnd.jupyter.widget-view+json": {
       "model_id": "281f6dd000564351b5d41f185c870084",
       "version_major": 2,
       "version_minor": 0
      },
      "text/plain": [
       "Calculating Metrics:   0%|          | 0/2 [00:00<?, ?it/s]"
      ]
     },
     "metadata": {},
     "output_type": "display_data"
    },
    {
     "data": {
      "application/vnd.jupyter.widget-view+json": {
       "model_id": "9d6d995522ae47d896c936c5418a3f5c",
       "version_major": 2,
       "version_minor": 0
      },
      "text/plain": [
       "Calculating Metrics:   0%|          | 0/6 [00:00<?, ?it/s]"
      ]
     },
     "metadata": {},
     "output_type": "display_data"
    },
    {
     "data": {
      "application/vnd.jupyter.widget-view+json": {
       "model_id": "bc1e4e23d7c447139c62b095b85f02e5",
       "version_major": 2,
       "version_minor": 0
      },
      "text/plain": [
       "Calculating Metrics:   0%|          | 0/6 [00:00<?, ?it/s]"
      ]
     },
     "metadata": {},
     "output_type": "display_data"
    },
    {
     "data": {
      "application/vnd.jupyter.widget-view+json": {
       "model_id": "cfad402afd514927add67d424eae2ecd",
       "version_major": 2,
       "version_minor": 0
      },
      "text/plain": [
       "Calculating Metrics:   0%|          | 0/6 [00:00<?, ?it/s]"
      ]
     },
     "metadata": {},
     "output_type": "display_data"
    },
    {
     "data": {
      "application/vnd.jupyter.widget-view+json": {
       "model_id": "dfb6edd8cca04274969da7e03ff33a45",
       "version_major": 2,
       "version_minor": 0
      },
      "text/plain": [
       "Calculating Metrics:   0%|          | 0/6 [00:00<?, ?it/s]"
      ]
     },
     "metadata": {},
     "output_type": "display_data"
    },
    {
     "data": {
      "application/vnd.jupyter.widget-view+json": {
       "model_id": "a759c0fb6c074faba7d18fb0da79c840",
       "version_major": 2,
       "version_minor": 0
      },
      "text/plain": [
       "Calculating Metrics:   0%|          | 0/6 [00:00<?, ?it/s]"
      ]
     },
     "metadata": {},
     "output_type": "display_data"
    },
    {
     "data": {
      "application/vnd.jupyter.widget-view+json": {
       "model_id": "e308d3c5635642e590eb75b9f7143cd0",
       "version_major": 2,
       "version_minor": 0
      },
      "text/plain": [
       "Calculating Metrics:   0%|          | 0/6 [00:00<?, ?it/s]"
      ]
     },
     "metadata": {},
     "output_type": "display_data"
    },
    {
     "data": {
      "application/vnd.jupyter.widget-view+json": {
       "model_id": "195337ef3a8e45dfb2b802239faa69c4",
       "version_major": 2,
       "version_minor": 0
      },
      "text/plain": [
       "Calculating Metrics:   0%|          | 0/6 [00:00<?, ?it/s]"
      ]
     },
     "metadata": {},
     "output_type": "display_data"
    },
    {
     "data": {
      "application/vnd.jupyter.widget-view+json": {
       "model_id": "9987b1eeb8334367ab35f2344e5783e9",
       "version_major": 2,
       "version_minor": 0
      },
      "text/plain": [
       "Calculating Metrics:   0%|          | 0/6 [00:00<?, ?it/s]"
      ]
     },
     "metadata": {},
     "output_type": "display_data"
    },
    {
     "data": {
      "application/vnd.jupyter.widget-view+json": {
       "model_id": "127d63d11ba849e5b67a616ffbe5fdde",
       "version_major": 2,
       "version_minor": 0
      },
      "text/plain": [
       "Calculating Metrics:   0%|          | 0/6 [00:00<?, ?it/s]"
      ]
     },
     "metadata": {},
     "output_type": "display_data"
    },
    {
     "data": {
      "application/vnd.jupyter.widget-view+json": {
       "model_id": "12c0684bb35c43688119bd35862be477",
       "version_major": 2,
       "version_minor": 0
      },
      "text/plain": [
       "Calculating Metrics:   0%|          | 0/6 [00:00<?, ?it/s]"
      ]
     },
     "metadata": {},
     "output_type": "display_data"
    },
    {
     "data": {
      "application/vnd.jupyter.widget-view+json": {
       "model_id": "06754d477718458d86f5fc6da963931d",
       "version_major": 2,
       "version_minor": 0
      },
      "text/plain": [
       "Calculating Metrics:   0%|          | 0/6 [00:00<?, ?it/s]"
      ]
     },
     "metadata": {},
     "output_type": "display_data"
    },
    {
     "data": {
      "application/vnd.jupyter.widget-view+json": {
       "model_id": "765983475d8b494fa1014093b48f86b7",
       "version_major": 2,
       "version_minor": 0
      },
      "text/plain": [
       "Calculating Metrics:   0%|          | 0/6 [00:00<?, ?it/s]"
      ]
     },
     "metadata": {},
     "output_type": "display_data"
    },
    {
     "data": {
      "application/vnd.jupyter.widget-view+json": {
       "model_id": "87fbe01db2da462b9f93770e7d80c191",
       "version_major": 2,
       "version_minor": 0
      },
      "text/plain": [
       "Calculating Metrics:   0%|          | 0/6 [00:00<?, ?it/s]"
      ]
     },
     "metadata": {},
     "output_type": "display_data"
    },
    {
     "data": {
      "application/vnd.jupyter.widget-view+json": {
       "model_id": "6fceb0c0a012447088168ada78d061d6",
       "version_major": 2,
       "version_minor": 0
      },
      "text/plain": [
       "Calculating Metrics:   0%|          | 0/6 [00:00<?, ?it/s]"
      ]
     },
     "metadata": {},
     "output_type": "display_data"
    },
    {
     "data": {
      "application/vnd.jupyter.widget-view+json": {
       "model_id": "39be968f23e74b8c8c33e6aec7183cbb",
       "version_major": 2,
       "version_minor": 0
      },
      "text/plain": [
       "Calculating Metrics:   0%|          | 0/6 [00:00<?, ?it/s]"
      ]
     },
     "metadata": {},
     "output_type": "display_data"
    },
    {
     "data": {
      "application/vnd.jupyter.widget-view+json": {
       "model_id": "fe0a7923cb794b05946383b41b44a3ee",
       "version_major": 2,
       "version_minor": 0
      },
      "text/plain": [
       "Calculating Metrics:   0%|          | 0/6 [00:00<?, ?it/s]"
      ]
     },
     "metadata": {},
     "output_type": "display_data"
    },
    {
     "data": {
      "application/vnd.jupyter.widget-view+json": {
       "model_id": "9f20f04f7bdc4b1d9d894bccc6cfc67b",
       "version_major": 2,
       "version_minor": 0
      },
      "text/plain": [
       "Calculating Metrics:   0%|          | 0/6 [00:00<?, ?it/s]"
      ]
     },
     "metadata": {},
     "output_type": "display_data"
    },
    {
     "data": {
      "application/vnd.jupyter.widget-view+json": {
       "model_id": "e30120af69a64878b521208028dca4e9",
       "version_major": 2,
       "version_minor": 0
      },
      "text/plain": [
       "Calculating Metrics:   0%|          | 0/6 [00:00<?, ?it/s]"
      ]
     },
     "metadata": {},
     "output_type": "display_data"
    },
    {
     "data": {
      "application/vnd.jupyter.widget-view+json": {
       "model_id": "c831067a8d0f4ca3a9bf24724b121d9a",
       "version_major": 2,
       "version_minor": 0
      },
      "text/plain": [
       "Calculating Metrics:   0%|          | 0/6 [00:00<?, ?it/s]"
      ]
     },
     "metadata": {},
     "output_type": "display_data"
    },
    {
     "data": {
      "application/vnd.jupyter.widget-view+json": {
       "model_id": "cb48843ce547477ab7098b63944e6633",
       "version_major": 2,
       "version_minor": 0
      },
      "text/plain": [
       "Calculating Metrics:   0%|          | 0/6 [00:00<?, ?it/s]"
      ]
     },
     "metadata": {},
     "output_type": "display_data"
    },
    {
     "data": {
      "application/vnd.jupyter.widget-view+json": {
       "model_id": "2f5a68fa27d64edbab7985ed30080986",
       "version_major": 2,
       "version_minor": 0
      },
      "text/plain": [
       "Calculating Metrics:   0%|          | 0/6 [00:00<?, ?it/s]"
      ]
     },
     "metadata": {},
     "output_type": "display_data"
    },
    {
     "data": {
      "application/vnd.jupyter.widget-view+json": {
       "model_id": "3667fa6da7c84310a36fa6aeb8f4b8ff",
       "version_major": 2,
       "version_minor": 0
      },
      "text/plain": [
       "Calculating Metrics:   0%|          | 0/6 [00:00<?, ?it/s]"
      ]
     },
     "metadata": {},
     "output_type": "display_data"
    },
    {
     "data": {
      "application/vnd.jupyter.widget-view+json": {
       "model_id": "d4d055af7d714f8490b0a3594ae897af",
       "version_major": 2,
       "version_minor": 0
      },
      "text/plain": [
       "Calculating Metrics:   0%|          | 0/6 [00:00<?, ?it/s]"
      ]
     },
     "metadata": {},
     "output_type": "display_data"
    },
    {
     "data": {
      "application/vnd.jupyter.widget-view+json": {
       "model_id": "a58092d757e540588a51f2ee13455a1c",
       "version_major": 2,
       "version_minor": 0
      },
      "text/plain": [
       "Calculating Metrics:   0%|          | 0/6 [00:00<?, ?it/s]"
      ]
     },
     "metadata": {},
     "output_type": "display_data"
    },
    {
     "data": {
      "application/vnd.jupyter.widget-view+json": {
       "model_id": "061e6b0b8538499fa3724da540c1fc33",
       "version_major": 2,
       "version_minor": 0
      },
      "text/plain": [
       "Calculating Metrics:   0%|          | 0/6 [00:00<?, ?it/s]"
      ]
     },
     "metadata": {},
     "output_type": "display_data"
    },
    {
     "data": {
      "application/vnd.jupyter.widget-view+json": {
       "model_id": "535f38198f0a46809d060917ee0bcb61",
       "version_major": 2,
       "version_minor": 0
      },
      "text/plain": [
       "Calculating Metrics:   0%|          | 0/6 [00:00<?, ?it/s]"
      ]
     },
     "metadata": {},
     "output_type": "display_data"
    },
    {
     "data": {
      "application/vnd.jupyter.widget-view+json": {
       "model_id": "f2c8260c1fcb4ab08d5df3937dd875d2",
       "version_major": 2,
       "version_minor": 0
      },
      "text/plain": [
       "Calculating Metrics:   0%|          | 0/6 [00:00<?, ?it/s]"
      ]
     },
     "metadata": {},
     "output_type": "display_data"
    },
    {
     "data": {
      "application/vnd.jupyter.widget-view+json": {
       "model_id": "37f7c06b19d147ee9e90c46dad52c6c5",
       "version_major": 2,
       "version_minor": 0
      },
      "text/plain": [
       "Calculating Metrics:   0%|          | 0/6 [00:00<?, ?it/s]"
      ]
     },
     "metadata": {},
     "output_type": "display_data"
    },
    {
     "data": {
      "application/vnd.jupyter.widget-view+json": {
       "model_id": "5090e66118dc493bb8c91ce8088d269b",
       "version_major": 2,
       "version_minor": 0
      },
      "text/plain": [
       "Calculating Metrics:   0%|          | 0/6 [00:00<?, ?it/s]"
      ]
     },
     "metadata": {},
     "output_type": "display_data"
    },
    {
     "data": {
      "application/vnd.jupyter.widget-view+json": {
       "model_id": "cc97e780e7b34c56bdb7fa970cf64c67",
       "version_major": 2,
       "version_minor": 0
      },
      "text/plain": [
       "Calculating Metrics:   0%|          | 0/6 [00:00<?, ?it/s]"
      ]
     },
     "metadata": {},
     "output_type": "display_data"
    }
   ],
   "source": [
    "for column_name in validator.columns():\n",
    "    validator.expect_column_values_to_not_be_null(column_name)"
   ]
  },
  {
   "cell_type": "code",
   "execution_count": 59,
   "id": "de0fc1f7-4810-4b62-b2d8-25fec2bef1c1",
   "metadata": {},
   "outputs": [
    {
     "data": {
      "application/vnd.jupyter.widget-view+json": {
       "model_id": "cd65016d926d4a8aafda4aabb8fcb496",
       "version_major": 2,
       "version_minor": 0
      },
      "text/plain": [
       "Calculating Metrics:   0%|          | 0/1 [00:00<?, ?it/s]"
      ]
     },
     "metadata": {},
     "output_type": "display_data"
    },
    {
     "data": {
      "application/vnd.jupyter.widget-view+json": {
       "model_id": "82b7d7bc9dbf4cffb0a2b06a9b6a033b",
       "version_major": 2,
       "version_minor": 0
      },
      "text/plain": [
       "Calculating Metrics:   0%|          | 0/1 [00:00<?, ?it/s]"
      ]
     },
     "metadata": {},
     "output_type": "display_data"
    }
   ],
   "source": [
    "data_types_expectations = {\n",
    "    \"closePrice\": \"float64\",\n",
    "    \"alMarketCap\": \"float64\",\n",
    "}\n",
    "for column_name, data_type in data_types_expectations.items():\n",
    "    validator.expect_column_values_to_be_of_type(column_name, data_type)"
   ]
  },
  {
   "cell_type": "code",
   "execution_count": 60,
   "id": "e3d9f415-1164-41d8-ba5e-c3e0d2a38115",
   "metadata": {},
   "outputs": [
    {
     "data": {
      "application/vnd.jupyter.widget-view+json": {
       "model_id": "0ce4ee2dca5f4074a2711e23648c9a74",
       "version_major": 2,
       "version_minor": 0
      },
      "text/plain": [
       "Calculating Metrics:   0%|          | 0/8 [00:00<?, ?it/s]"
      ]
     },
     "metadata": {},
     "output_type": "display_data"
    },
    {
     "data": {
      "application/vnd.jupyter.widget-view+json": {
       "model_id": "b0ced4d674ce4c6180fc4882e21c5f65",
       "version_major": 2,
       "version_minor": 0
      },
      "text/plain": [
       "Calculating Metrics:   0%|          | 0/8 [00:00<?, ?it/s]"
      ]
     },
     "metadata": {},
     "output_type": "display_data"
    }
   ],
   "source": [
    "outliers_expectations = {\n",
    "    \"closePrice\": {\"min_value\": 0, \"max_value\": 1000000},  # Example range, adjust as needed\n",
    "    \"alMarketCap\": {\"min_value\": 0, \"max_value\": 1e12},  # Example range, adjust as needed\n",
    "}\n",
    "for column_name, range_ in outliers_expectations.items():\n",
    "    validator.expect_column_values_to_be_between(column_name, **range_)"
   ]
  },
  {
   "cell_type": "code",
   "execution_count": 61,
   "id": "b122a408-d44f-409a-b670-12e350736d49",
   "metadata": {},
   "outputs": [
    {
     "data": {
      "application/vnd.jupyter.widget-view+json": {
       "model_id": "8cbe5130950c4795b8c553c1c347eee6",
       "version_major": 2,
       "version_minor": 0
      },
      "text/plain": [
       "Calculating Metrics:   0%|          | 0/8 [00:00<?, ?it/s]"
      ]
     },
     "metadata": {},
     "output_type": "display_data"
    },
    {
     "data": {
      "application/vnd.jupyter.widget-view+json": {
       "model_id": "edc9be9823a44afda47fc892cd9276b2",
       "version_major": 2,
       "version_minor": 0
      },
      "text/plain": [
       "Calculating Metrics:   0%|          | 0/8 [00:00<?, ?it/s]"
      ]
     },
     "metadata": {},
     "output_type": "display_data"
    },
    {
     "data": {
      "application/vnd.jupyter.widget-view+json": {
       "model_id": "e0ca251a5f08467997ab18582474eed4",
       "version_major": 2,
       "version_minor": 0
      },
      "text/plain": [
       "Calculating Metrics:   0%|          | 0/8 [00:00<?, ?it/s]"
      ]
     },
     "metadata": {},
     "output_type": "display_data"
    }
   ],
   "source": [
    "date_columns = [\"yearQuarter\", \"todayDate\", \"updateDate\"]\n",
    "for column_name in date_columns:\n",
    "    validator.expect_column_values_to_match_strftime_format(\n",
    "        column_name, strftime_format=\"%Y-%m-%d\"\n",
    "    )  \n"
   ]
  },
  {
   "cell_type": "code",
   "execution_count": null,
   "id": "a05830ce-05e2-4de3-bc2b-1945e997100e",
   "metadata": {},
   "outputs": [],
   "source": []
  },
  {
   "cell_type": "code",
   "execution_count": null,
   "id": "f0d11afd-e8f8-417d-a516-1167c6ea5e8d",
   "metadata": {},
   "outputs": [],
   "source": []
  },
  {
   "cell_type": "markdown",
   "id": "73f2e910",
   "metadata": {},
   "source": [
    "## Review & Save Your Expectations\n",
    "\n",
    "Let's save the expectation suite as a JSON file in the `great_expectations/expectations` directory of your project.\n",
    "\n",
    "Let's now rebuild your Data Docs, which helps you communicate about your data with both machines and humans."
   ]
  },
  {
   "cell_type": "code",
   "execution_count": null,
   "id": "79a86f89",
   "metadata": {},
   "outputs": [
    {
     "name": "stdout",
     "output_type": "stream",
     "text": [
      "2024-04-16T13:41:13+0530 - INFO - \t39 expectation(s) included in expectation_suite.\n",
      "{\n",
      "  \"expectation_suite_name\": \"STOCK_FUNDAMENTALS\",\n",
      "  \"ge_cloud_id\": null,\n",
      "  \"expectations\": [\n",
      "    {\n",
      "      \"expectation_type\": \"expect_table_row_count_to_be_between\",\n",
      "      \"kwargs\": {\n",
      "        \"max_value\": 488916,\n",
      "        \"min_value\": 488916\n",
      "      },\n",
      "      \"meta\": {}\n",
      "    },\n",
      "    {\n",
      "      \"expectation_type\": \"expect_table_columns_to_match_set\",\n",
      "      \"kwargs\": {\n",
      "        \"column_set\": [\n",
      "          \"securityId\",\n",
      "          \"alCurrentRatio\",\n",
      "          \"industry\",\n",
      "          \"alReturnOnEquity\",\n",
      "          \"alEquityToAssetRatio\",\n",
      "          \"qrDividendPercent\",\n",
      "          \"alROIC\",\n",
      "          \"alSolvencyRatio\",\n",
      "          \"alLeveredBeta\",\n",
      "          \"alDebtToCapitalRatio\",\n",
      "          \"alEarningPerShare\",\n",
      "          \"alEPSPct\",\n",
      "          \"alWACC\",\n",
      "          \"alCostOfEquity\",\n",
      "          \"alMarketCap\",\n",
      "          \"closePrice\",\n",
      "          \"alCostOfDebt\",\n",
      "          \"alPriceToEarning\",\n",
      "          \"alBookValuePerShare\",\n",
      "          \"qrNetMargin\",\n",
      "          \"yearQuarter\",\n",
      "          \"alValueCreation\",\n",
      "          \"_id\",\n",
      "          \"alCashToDebtRatio\",\n",
      "          \"qrEBIDTAMargin\",\n",
      "          \"qrOperatingMargin\",\n",
      "          \"_class\",\n",
      "          \"todayDate\",\n",
      "          \"updateDate\",\n",
      "          \"alReturnRatio\"\n",
      "        ]\n",
      "      },\n",
      "      \"meta\": {}\n",
      "    },\n",
      "    {\n",
      "      \"expectation_type\": \"expect_column_values_to_not_be_null\",\n",
      "      \"kwargs\": {\n",
      "        \"column\": \"_id\"\n",
      "      },\n",
      "      \"meta\": {}\n",
      "    },\n",
      "    {\n",
      "      \"expectation_type\": \"expect_column_values_to_not_be_null\",\n",
      "      \"kwargs\": {\n",
      "        \"column\": \"securityId\"\n",
      "      },\n",
      "      \"meta\": {}\n",
      "    },\n",
      "    {\n",
      "      \"expectation_type\": \"expect_column_values_to_not_be_null\",\n",
      "      \"kwargs\": {\n",
      "        \"column\": \"industry\"\n",
      "      },\n",
      "      \"meta\": {}\n",
      "    },\n",
      "    {\n",
      "      \"expectation_type\": \"expect_column_values_to_not_be_null\",\n",
      "      \"kwargs\": {\n",
      "        \"column\": \"yearQuarter\"\n",
      "      },\n",
      "      \"meta\": {}\n",
      "    },\n",
      "    {\n",
      "      \"expectation_type\": \"expect_column_values_to_not_be_null\",\n",
      "      \"kwargs\": {\n",
      "        \"column\": \"closePrice\"\n",
      "      },\n",
      "      \"meta\": {}\n",
      "    },\n",
      "    {\n",
      "      \"expectation_type\": \"expect_column_values_to_not_be_null\",\n",
      "      \"kwargs\": {\n",
      "        \"column\": \"alMarketCap\"\n",
      "      },\n",
      "      \"meta\": {}\n",
      "    },\n",
      "    {\n",
      "      \"expectation_type\": \"expect_column_values_to_not_be_null\",\n",
      "      \"kwargs\": {\n",
      "        \"column\": \"alBookValuePerShare\"\n",
      "      },\n",
      "      \"meta\": {}\n",
      "    },\n",
      "    {\n",
      "      \"expectation_type\": \"expect_column_values_to_not_be_null\",\n",
      "      \"kwargs\": {\n",
      "        \"column\": \"alEarningPerShare\"\n",
      "      },\n",
      "      \"meta\": {}\n",
      "    },\n",
      "    {\n",
      "      \"expectation_type\": \"expect_column_values_to_not_be_null\",\n",
      "      \"kwargs\": {\n",
      "        \"column\": \"alEPSPct\"\n",
      "      },\n",
      "      \"meta\": {}\n",
      "    },\n",
      "    {\n",
      "      \"expectation_type\": \"expect_column_values_to_not_be_null\",\n",
      "      \"kwargs\": {\n",
      "        \"column\": \"alPriceToEarning\"\n",
      "      },\n",
      "      \"meta\": {}\n",
      "    },\n",
      "    {\n",
      "      \"expectation_type\": \"expect_column_values_to_not_be_null\",\n",
      "      \"kwargs\": {\n",
      "        \"column\": \"alCashToDebtRatio\"\n",
      "      },\n",
      "      \"meta\": {}\n",
      "    },\n",
      "    {\n",
      "      \"expectation_type\": \"expect_column_values_to_not_be_null\",\n",
      "      \"kwargs\": {\n",
      "        \"column\": \"alCurrentRatio\"\n",
      "      },\n",
      "      \"meta\": {}\n",
      "    },\n",
      "    {\n",
      "      \"expectation_type\": \"expect_column_values_to_not_be_null\",\n",
      "      \"kwargs\": {\n",
      "        \"column\": \"alEquityToAssetRatio\"\n",
      "      },\n",
      "      \"meta\": {}\n",
      "    },\n",
      "    {\n",
      "      \"expectation_type\": \"expect_column_values_to_not_be_null\",\n",
      "      \"kwargs\": {\n",
      "        \"column\": \"alDebtToCapitalRatio\"\n",
      "      },\n",
      "      \"meta\": {}\n",
      "    },\n",
      "    {\n",
      "      \"expectation_type\": \"expect_column_values_to_not_be_null\",\n",
      "      \"kwargs\": {\n",
      "        \"column\": \"alLeveredBeta\"\n",
      "      },\n",
      "      \"meta\": {}\n",
      "    },\n",
      "    {\n",
      "      \"expectation_type\": \"expect_column_values_to_not_be_null\",\n",
      "      \"kwargs\": {\n",
      "        \"column\": \"alReturnOnEquity\"\n",
      "      },\n",
      "      \"meta\": {}\n",
      "    },\n",
      "    {\n",
      "      \"expectation_type\": \"expect_column_values_to_not_be_null\",\n",
      "      \"kwargs\": {\n",
      "        \"column\": \"alSolvencyRatio\"\n",
      "      },\n",
      "      \"meta\": {}\n",
      "    },\n",
      "    {\n",
      "      \"expectation_type\": \"expect_column_values_to_not_be_null\",\n",
      "      \"kwargs\": {\n",
      "        \"column\": \"alCostOfEquity\"\n",
      "      },\n",
      "      \"meta\": {}\n",
      "    },\n",
      "    {\n",
      "      \"expectation_type\": \"expect_column_values_to_not_be_null\",\n",
      "      \"kwargs\": {\n",
      "        \"column\": \"alCostOfDebt\"\n",
      "      },\n",
      "      \"meta\": {}\n",
      "    },\n",
      "    {\n",
      "      \"expectation_type\": \"expect_column_values_to_not_be_null\",\n",
      "      \"kwargs\": {\n",
      "        \"column\": \"qrEBIDTAMargin\"\n",
      "      },\n",
      "      \"meta\": {}\n",
      "    },\n",
      "    {\n",
      "      \"expectation_type\": \"expect_column_values_to_not_be_null\",\n",
      "      \"kwargs\": {\n",
      "        \"column\": \"qrOperatingMargin\"\n",
      "      },\n",
      "      \"meta\": {}\n",
      "    },\n",
      "    {\n",
      "      \"expectation_type\": \"expect_column_values_to_not_be_null\",\n",
      "      \"kwargs\": {\n",
      "        \"column\": \"qrNetMargin\"\n",
      "      },\n",
      "      \"meta\": {}\n",
      "    },\n",
      "    {\n",
      "      \"expectation_type\": \"expect_column_values_to_not_be_null\",\n",
      "      \"kwargs\": {\n",
      "        \"column\": \"qrDividendPercent\"\n",
      "      },\n",
      "      \"meta\": {}\n",
      "    },\n",
      "    {\n",
      "      \"expectation_type\": \"expect_column_values_to_not_be_null\",\n",
      "      \"kwargs\": {\n",
      "        \"column\": \"alROIC\"\n",
      "      },\n",
      "      \"meta\": {}\n",
      "    },\n",
      "    {\n",
      "      \"expectation_type\": \"expect_column_values_to_not_be_null\",\n",
      "      \"kwargs\": {\n",
      "        \"column\": \"alWACC\"\n",
      "      },\n",
      "      \"meta\": {}\n",
      "    },\n",
      "    {\n",
      "      \"expectation_type\": \"expect_column_values_to_not_be_null\",\n",
      "      \"kwargs\": {\n",
      "        \"column\": \"alReturnRatio\"\n",
      "      },\n",
      "      \"meta\": {}\n",
      "    },\n",
      "    {\n",
      "      \"expectation_type\": \"expect_column_values_to_not_be_null\",\n",
      "      \"kwargs\": {\n",
      "        \"column\": \"alValueCreation\"\n",
      "      },\n",
      "      \"meta\": {}\n",
      "    },\n",
      "    {\n",
      "      \"expectation_type\": \"expect_column_values_to_not_be_null\",\n",
      "      \"kwargs\": {\n",
      "        \"column\": \"todayDate\"\n",
      "      },\n",
      "      \"meta\": {}\n",
      "    },\n",
      "    {\n",
      "      \"expectation_type\": \"expect_column_values_to_not_be_null\",\n",
      "      \"kwargs\": {\n",
      "        \"column\": \"updateDate\"\n",
      "      },\n",
      "      \"meta\": {}\n",
      "    },\n",
      "    {\n",
      "      \"expectation_type\": \"expect_column_values_to_not_be_null\",\n",
      "      \"kwargs\": {\n",
      "        \"column\": \"_class\"\n",
      "      },\n",
      "      \"meta\": {}\n",
      "    },\n",
      "    {\n",
      "      \"expectation_type\": \"expect_column_values_to_be_of_type\",\n",
      "      \"kwargs\": {\n",
      "        \"column\": \"closePrice\",\n",
      "        \"type_\": \"float64\"\n",
      "      },\n",
      "      \"meta\": {}\n",
      "    },\n",
      "    {\n",
      "      \"expectation_type\": \"expect_column_values_to_be_of_type\",\n",
      "      \"kwargs\": {\n",
      "        \"column\": \"alMarketCap\",\n",
      "        \"type_\": \"float64\"\n",
      "      },\n",
      "      \"meta\": {}\n",
      "    },\n",
      "    {\n",
      "      \"expectation_type\": \"expect_column_values_to_be_between\",\n",
      "      \"kwargs\": {\n",
      "        \"min_value\": 0,\n",
      "        \"max_value\": 1000000,\n",
      "        \"column\": \"closePrice\"\n",
      "      },\n",
      "      \"meta\": {}\n",
      "    },\n",
      "    {\n",
      "      \"expectation_type\": \"expect_column_values_to_be_between\",\n",
      "      \"kwargs\": {\n",
      "        \"min_value\": 0,\n",
      "        \"max_value\": 1000000000000.0,\n",
      "        \"column\": \"alMarketCap\"\n",
      "      },\n",
      "      \"meta\": {}\n",
      "    },\n",
      "    {\n",
      "      \"expectation_type\": \"expect_column_values_to_match_strftime_format\",\n",
      "      \"kwargs\": {\n",
      "        \"strftime_format\": \"%Y-%m-%d\",\n",
      "        \"column\": \"yearQuarter\"\n",
      "      },\n",
      "      \"meta\": {}\n",
      "    },\n",
      "    {\n",
      "      \"expectation_type\": \"expect_column_values_to_match_strftime_format\",\n",
      "      \"kwargs\": {\n",
      "        \"strftime_format\": \"%Y-%m-%d\",\n",
      "        \"column\": \"todayDate\"\n",
      "      },\n",
      "      \"meta\": {}\n",
      "    },\n",
      "    {\n",
      "      \"expectation_type\": \"expect_column_values_to_match_strftime_format\",\n",
      "      \"kwargs\": {\n",
      "        \"strftime_format\": \"%Y-%m-%d\",\n",
      "        \"column\": \"updateDate\"\n",
      "      },\n",
      "      \"meta\": {}\n",
      "    }\n",
      "  ],\n",
      "  \"data_asset_type\": null,\n",
      "  \"meta\": {\n",
      "    \"citations\": [\n",
      "      {\n",
      "        \"citation_date\": \"2024-04-12T16:10:14.908826Z\",\n",
      "        \"comment\": \"Created by effective Rule-Based Profiler of OnboardingDataAssistant with the configuration included.\\n\"\n",
      "      },\n",
      "      {\n",
      "        \"batch_request\": {\n",
      "          \"data_asset_name\": \"STOCK_FUNDAMENTALS.csv\",\n",
      "          \"data_connector_name\": \"default_inferred_data_connector_name\",\n",
      "          \"datasource_name\": \"my_datasource\",\n",
      "          \"limit\": 1000\n",
      "        },\n",
      "        \"citation_date\": \"2024-04-12T17:16:02.146204Z\",\n",
      "        \"comment\": \"Created suite added via CLI\"\n",
      "      }\n",
      "    ],\n",
      "    \"great_expectations_version\": \"0.18.12\"\n",
      "  }\n",
      "}\n",
      "2024-04-16T13:41:13+0530 - INFO - \t39 expectation(s) included in expectation_suite.\n",
      "2024-04-16T13:41:14+0530 - INFO - \t39 expectation(s) included in expectation_suite.\n"
     ]
    },
    {
     "data": {
      "application/vnd.jupyter.widget-view+json": {
       "model_id": "164e99bfb8ce49e09a73a11a8f9237de",
       "version_major": 2,
       "version_minor": 0
      },
      "text/plain": [
       "Calculating Metrics:   0%|          | 0/178 [00:00<?, ?it/s]"
      ]
     },
     "metadata": {},
     "output_type": "display_data"
    }
   ],
   "source": [
    "print(validator.get_expectation_suite(discard_failed_expectations=False))\n",
    "validator.save_expectation_suite(discard_failed_expectations=False)\n",
    "\n",
    "checkpoint_config = {\n",
    "    \"class_name\": \"SimpleCheckpoint\",\n",
    "    \"validations\": [\n",
    "        {\n",
    "            \"batch_request\": batch_request,\n",
    "            \"expectation_suite_name\": expectation_suite_name\n",
    "        }\n",
    "    ]\n",
    "}\n",
    "checkpoint = SimpleCheckpoint(\n",
    "    f\"{validator.active_batch_definition.data_asset_name}_{expectation_suite_name}\",\n",
    "    context,\n",
    "    **checkpoint_config\n",
    ")\n",
    "checkpoint_result = checkpoint.run()\n",
    "\n",
    "context.build_data_docs()\n",
    "\n",
    "validation_result_identifier = checkpoint_result.list_validation_result_identifiers()[0]\n",
    "context.open_data_docs(resource_identifier=validation_result_identifier)"
   ]
  },
  {
   "cell_type": "code",
   "execution_count": null,
   "id": "1048f429-decf-468b-a2cb-d48978301b73",
   "metadata": {},
   "outputs": [],
   "source": []
  },
  {
   "cell_type": "code",
   "execution_count": null,
   "id": "e2268317-42a6-481a-aeaa-3dfe9959fa06",
   "metadata": {},
   "outputs": [],
   "source": []
  }
 ],
 "metadata": {
  "kernelspec": {
   "display_name": "Python 3 (ipykernel)",
   "language": "python",
   "name": "python3"
  },
  "language_info": {
   "codemirror_mode": {
    "name": "ipython",
    "version": 3
   },
   "file_extension": ".py",
   "mimetype": "text/x-python",
   "name": "python",
   "nbconvert_exporter": "python",
   "pygments_lexer": "ipython3",
   "version": "3.11.7"
  }
 },
 "nbformat": 4,
 "nbformat_minor": 5
}
